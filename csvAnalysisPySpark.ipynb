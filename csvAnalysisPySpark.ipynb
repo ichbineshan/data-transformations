{
 "cells": [
  {
   "cell_type": "code",
   "execution_count": 18,
   "metadata": {},
   "outputs": [],
   "source": [
    "import pyspark\n",
    "from pyspark.sql import SparkSession\n",
    "spark=SparkSession.builder.appName('practice').getOrCreate()"
   ]
  },
  {
   "cell_type": "code",
   "execution_count": 19,
   "metadata": {},
   "outputs": [],
   "source": [
    "### THINGS TO BE ADDED \n",
    "\n",
    "# -id    \n",
    "# -department    \n",
    "# -first    \n",
    "# -last    \n",
    "# -dob     \n",
    "# -Joining_date \n",
    "# -age \n",
    "# -tenure(in days)\n",
    "# -no_of_policies \n",
    "# -no_of_active_policy\n",
    "# -no of_pending_policy\n",
    "# -no_of_cancelled_policy\n",
    "# -avg_income"
   ]
  },
  {
   "cell_type": "code",
   "execution_count": 20,
   "metadata": {},
   "outputs": [],
   "source": [
    "df1=spark.read.csv('employee.csv',header=True)\n",
    "df2=spark.read.csv('sales_data.csv',header=True)\n"
   ]
  },
  {
   "cell_type": "code",
   "execution_count": 21,
   "metadata": {},
   "outputs": [
    {
     "name": "stdout",
     "output_type": "stream",
     "text": [
      "+---+----------+--------+------+----------+------------+---+\n",
      "| id|department|   first|  last|       dob|Joining_date|age|\n",
      "+---+----------+--------+------+----------+------------+---+\n",
      "|  1|     Sales|  Deepti|Sharma|01/01/1998|    20/02/22| 25|\n",
      "|  2|     Sales|  Suresh|Mishra|28/05/1992|    31/05/17| 30|\n",
      "|  3|     Sales|    Maya| patil|01/02/1998|    20/07/22| 25|\n",
      "|  4|     Sales|Prashant|Jadhav|27/08/1989|    01/12/14| 33|\n",
      "|  5|     Sales|  Deepak| Kumar|01/02/1998|    04/04/21| 25|\n",
      "|  6|     Sales|  Pratik| Kumar|28/05/1993|    05/08/15| 29|\n",
      "|  7|     Sales|   Mayur| Sinha|01/03/1998|    09/07/22| 24|\n",
      "|  8|     Sales|    Amit|Sharma|26/08/1985|    10/09/09| 37|\n",
      "|  9|     Sales|Prajakta| patil|12/03/1981|    18/05/06| 41|\n",
      "| 10|     Sales|   Smita| Raina|28/05/1994|    12/08/16| 28|\n",
      "+---+----------+--------+------+----------+------------+---+\n",
      "\n"
     ]
    }
   ],
   "source": [
    "from pyspark.sql.functions import *\n",
    "\n",
    "\n",
    "# adding age\n",
    "df1 = df1.withColumn(\"dob_formatted\", to_date(\"dob\", \"dd/MM/yyyy\"))\n",
    "df1 = df1.withColumn(\"age\", (datediff(current_date(), \"dob_formatted\") / 365.25).cast(\"int\"))\n",
    "df1 = df1.drop('dob_formatted')\n",
    "\n",
    "df1.show()\n"
   ]
  },
  {
   "cell_type": "code",
   "execution_count": 22,
   "metadata": {},
   "outputs": [
    {
     "name": "stdout",
     "output_type": "stream",
     "text": [
      "+---+----------+--------+------+----------+------------+---+----------------+\n",
      "| id|department|   first|  last|       dob|Joining_date|age|tenure (in days)|\n",
      "+---+----------+--------+------+----------+------------+---+----------------+\n",
      "|  1|     Sales|  Deepti|Sharma|01/01/1998|    20/02/22| 25|             362|\n",
      "|  2|     Sales|  Suresh|Mishra|28/05/1992|    31/05/17| 30|            2088|\n",
      "|  3|     Sales|    Maya| patil|01/02/1998|    20/07/22| 25|             212|\n",
      "|  4|     Sales|Prashant|Jadhav|27/08/1989|    01/12/14| 33|            3000|\n",
      "|  5|     Sales|  Deepak| Kumar|01/02/1998|    04/04/21| 25|             684|\n",
      "|  6|     Sales|  Pratik| Kumar|28/05/1993|    05/08/15| 29|            2753|\n",
      "|  7|     Sales|   Mayur| Sinha|01/03/1998|    09/07/22| 24|             223|\n",
      "|  8|     Sales|    Amit|Sharma|26/08/1985|    10/09/09| 37|            4908|\n",
      "|  9|     Sales|Prajakta| patil|12/03/1981|    18/05/06| 41|            6119|\n",
      "| 10|     Sales|   Smita| Raina|28/05/1994|    12/08/16| 28|            2380|\n",
      "+---+----------+--------+------+----------+------------+---+----------------+\n",
      "\n"
     ]
    }
   ],
   "source": [
    "# adding tenure (in days)\n",
    "df1 = df1.withColumn(\"joiningdate_formatted\", to_date(\"Joining_date\", \"dd/MM/yy\"))\n",
    "df1 = df1.withColumn(\"tenure (in days)\", (datediff(current_date(), \"joiningdate_formatted\")).cast(\"int\"))\n",
    "df1 = df1.drop('joiningdate_formatted')\n",
    "\n",
    "df1.show()\n"
   ]
  },
  {
   "cell_type": "code",
   "execution_count": 23,
   "metadata": {},
   "outputs": [
    {
     "name": "stdout",
     "output_type": "stream",
     "text": [
      "+---+---------------+\n",
      "|id |no. of policies|\n",
      "+---+---------------+\n",
      "|  7|              1|\n",
      "|  3|              9|\n",
      "|  8|              4|\n",
      "|  5|              3|\n",
      "|  6|              4|\n",
      "|  9|              6|\n",
      "|  1|              8|\n",
      "| 10|              5|\n",
      "|  4|              5|\n",
      "|  2|              6|\n",
      "+---+---------------+\n",
      "\n"
     ]
    }
   ],
   "source": [
    "idc=df2.groupBy('id ').agg(count('id ').alias('no. of policies'))\n",
    "idc.show()"
   ]
  },
  {
   "cell_type": "code",
   "execution_count": 24,
   "metadata": {},
   "outputs": [
    {
     "name": "stdout",
     "output_type": "stream",
     "text": [
      "+---+----------+--------+------+----------+------------+---+----------------+---------------+\n",
      "| id|department|   first|  last|       dob|Joining_date|age|tenure (in days)|no. of policies|\n",
      "+---+----------+--------+------+----------+------------+---+----------------+---------------+\n",
      "|  7|     Sales|   Mayur| Sinha|01/03/1998|    09/07/22| 24|             223|              1|\n",
      "|  3|     Sales|    Maya| patil|01/02/1998|    20/07/22| 25|             212|              9|\n",
      "|  8|     Sales|    Amit|Sharma|26/08/1985|    10/09/09| 37|            4908|              4|\n",
      "|  5|     Sales|  Deepak| Kumar|01/02/1998|    04/04/21| 25|             684|              3|\n",
      "|  6|     Sales|  Pratik| Kumar|28/05/1993|    05/08/15| 29|            2753|              4|\n",
      "|  9|     Sales|Prajakta| patil|12/03/1981|    18/05/06| 41|            6119|              6|\n",
      "|  1|     Sales|  Deepti|Sharma|01/01/1998|    20/02/22| 25|             362|              8|\n",
      "| 10|     Sales|   Smita| Raina|28/05/1994|    12/08/16| 28|            2380|              5|\n",
      "|  4|     Sales|Prashant|Jadhav|27/08/1989|    01/12/14| 33|            3000|              5|\n",
      "|  2|     Sales|  Suresh|Mishra|28/05/1992|    31/05/17| 30|            2088|              6|\n",
      "+---+----------+--------+------+----------+------------+---+----------------+---------------+\n",
      "\n"
     ]
    }
   ],
   "source": [
    "df1=df1.join(idc,df1.id ==  idc[\"id \"] ,\"inner\")\n",
    "df1=df1.drop(\"id \")\n",
    "df1.show()\n"
   ]
  },
  {
   "cell_type": "code",
   "execution_count": 25,
   "metadata": {},
   "outputs": [
    {
     "name": "stdout",
     "output_type": "stream",
     "text": [
      "+---+--------+--------------------+\n",
      "|id |  status|no. of active policy|\n",
      "+---+--------+--------------------+\n",
      "|  1|In Force|                   3|\n",
      "|  5|In Force|                   1|\n",
      "|  7|In Force|                   1|\n",
      "|  8|In Force|                   1|\n",
      "|  6|In Force|                   2|\n",
      "| 10|In Force|                   2|\n",
      "|  2|In Force|                   2|\n",
      "|  4|In Force|                   1|\n",
      "|  3|In Force|                   3|\n",
      "|  9|In Force|                   1|\n",
      "+---+--------+--------------------+\n",
      "\n"
     ]
    }
   ],
   "source": [
    "ap=df2.groupBy('id ','status').agg(count(\n",
    "  'id ').alias(\"no. of active policy\")).filter(\n",
    "  col('status') == 'In Force')\n",
    "  \n",
    "ap.show()"
   ]
  },
  {
   "cell_type": "code",
   "execution_count": 26,
   "metadata": {},
   "outputs": [
    {
     "name": "stdout",
     "output_type": "stream",
     "text": [
      "+---+----------+--------+------+----------+------------+---+----------------+---------------+--------------------+\n",
      "| id|department|   first|  last|       dob|Joining_date|age|tenure (in days)|no. of policies|no. of active policy|\n",
      "+---+----------+--------+------+----------+------------+---+----------------+---------------+--------------------+\n",
      "|  7|     Sales|   Mayur| Sinha|01/03/1998|    09/07/22| 24|             223|              1|                   1|\n",
      "|  3|     Sales|    Maya| patil|01/02/1998|    20/07/22| 25|             212|              9|                   3|\n",
      "|  8|     Sales|    Amit|Sharma|26/08/1985|    10/09/09| 37|            4908|              4|                   1|\n",
      "|  5|     Sales|  Deepak| Kumar|01/02/1998|    04/04/21| 25|             684|              3|                   1|\n",
      "|  6|     Sales|  Pratik| Kumar|28/05/1993|    05/08/15| 29|            2753|              4|                   2|\n",
      "|  9|     Sales|Prajakta| patil|12/03/1981|    18/05/06| 41|            6119|              6|                   1|\n",
      "|  1|     Sales|  Deepti|Sharma|01/01/1998|    20/02/22| 25|             362|              8|                   3|\n",
      "| 10|     Sales|   Smita| Raina|28/05/1994|    12/08/16| 28|            2380|              5|                   2|\n",
      "|  4|     Sales|Prashant|Jadhav|27/08/1989|    01/12/14| 33|            3000|              5|                   1|\n",
      "|  2|     Sales|  Suresh|Mishra|28/05/1992|    31/05/17| 30|            2088|              6|                   2|\n",
      "+---+----------+--------+------+----------+------------+---+----------------+---------------+--------------------+\n",
      "\n"
     ]
    }
   ],
   "source": [
    "df1=df1.join(ap,df1.id ==  ap[\"id \"] ,\"left\")\n",
    "df1=df1.drop(\"id \")\n",
    "df1=df1.drop(\"status\")\n",
    "df1.show()\n"
   ]
  },
  {
   "cell_type": "code",
   "execution_count": 27,
   "metadata": {},
   "outputs": [
    {
     "name": "stdout",
     "output_type": "stream",
     "text": [
      "+---+-------+---------------------+\n",
      "|id | status|no. of pending policy|\n",
      "+---+-------+---------------------+\n",
      "|  4|Pending|                    2|\n",
      "| 10|Pending|                    1|\n",
      "|  6|Pending|                    1|\n",
      "|  8|Pending|                    2|\n",
      "|  3|Pending|                    4|\n",
      "|  5|Pending|                    1|\n",
      "|  2|Pending|                    4|\n",
      "|  1|Pending|                    4|\n",
      "|  9|Pending|                    4|\n",
      "+---+-------+---------------------+\n",
      "\n"
     ]
    }
   ],
   "source": [
    "pp=df2.groupBy('id ','status').agg(count(\n",
    "  'id ').alias(\"no. of pending policy\")).filter(\n",
    "  col('status') == 'Pending')\n",
    "  \n",
    "pp.show()"
   ]
  },
  {
   "cell_type": "code",
   "execution_count": 28,
   "metadata": {},
   "outputs": [
    {
     "name": "stdout",
     "output_type": "stream",
     "text": [
      "+---+----------+--------+------+----------+------------+---+----------------+---------------+--------------------+---------------------+\n",
      "| id|department|   first|  last|       dob|Joining_date|age|tenure (in days)|no. of policies|no. of active policy|no. of pending policy|\n",
      "+---+----------+--------+------+----------+------------+---+----------------+---------------+--------------------+---------------------+\n",
      "|  7|     Sales|   Mayur| Sinha|01/03/1998|    09/07/22| 24|             223|              1|                   1|                 null|\n",
      "|  3|     Sales|    Maya| patil|01/02/1998|    20/07/22| 25|             212|              9|                   3|                    4|\n",
      "|  8|     Sales|    Amit|Sharma|26/08/1985|    10/09/09| 37|            4908|              4|                   1|                    2|\n",
      "|  5|     Sales|  Deepak| Kumar|01/02/1998|    04/04/21| 25|             684|              3|                   1|                    1|\n",
      "|  6|     Sales|  Pratik| Kumar|28/05/1993|    05/08/15| 29|            2753|              4|                   2|                    1|\n",
      "|  9|     Sales|Prajakta| patil|12/03/1981|    18/05/06| 41|            6119|              6|                   1|                    4|\n",
      "|  1|     Sales|  Deepti|Sharma|01/01/1998|    20/02/22| 25|             362|              8|                   3|                    4|\n",
      "| 10|     Sales|   Smita| Raina|28/05/1994|    12/08/16| 28|            2380|              5|                   2|                    1|\n",
      "|  4|     Sales|Prashant|Jadhav|27/08/1989|    01/12/14| 33|            3000|              5|                   1|                    2|\n",
      "|  2|     Sales|  Suresh|Mishra|28/05/1992|    31/05/17| 30|            2088|              6|                   2|                    4|\n",
      "+---+----------+--------+------+----------+------------+---+----------------+---------------+--------------------+---------------------+\n",
      "\n"
     ]
    }
   ],
   "source": [
    "df1=df1.join(pp,df1.id ==  pp[\"id \"] ,\"left\")\n",
    "df1=df1.drop(\"id \")\n",
    "df1=df1.drop(\"status\")\n",
    "df1.show()\n"
   ]
  },
  {
   "cell_type": "code",
   "execution_count": 29,
   "metadata": {},
   "outputs": [
    {
     "name": "stdout",
     "output_type": "stream",
     "text": [
      "+---+---------+-----------------------+\n",
      "|id |   status|no. of cancelled policy|\n",
      "+---+---------+-----------------------+\n",
      "|  1|Cancelled|                      1|\n",
      "|  8|Cancelled|                      1|\n",
      "|  6|Cancelled|                      1|\n",
      "|  5|Cancelled|                      1|\n",
      "|  4|Cancelled|                      2|\n",
      "| 10|Cancelled|                      2|\n",
      "|  3|Cancelled|                      2|\n",
      "|  9|Cancelled|                      1|\n",
      "+---+---------+-----------------------+\n",
      "\n"
     ]
    }
   ],
   "source": [
    "cp=df2.groupBy('id ','status').agg(count(\n",
    "  'id ').alias(\"no. of cancelled policy\")).filter(\n",
    "  col('status') == 'Cancelled')\n",
    "  \n",
    "cp.show()"
   ]
  },
  {
   "cell_type": "code",
   "execution_count": 30,
   "metadata": {},
   "outputs": [
    {
     "name": "stdout",
     "output_type": "stream",
     "text": [
      "+---+----------+--------+------+----------+------------+---+----------------+---------------+--------------------+---------------------+-----------------------+\n",
      "| id|department|   first|  last|       dob|Joining_date|age|tenure (in days)|no. of policies|no. of active policy|no. of pending policy|no. of cancelled policy|\n",
      "+---+----------+--------+------+----------+------------+---+----------------+---------------+--------------------+---------------------+-----------------------+\n",
      "|  7|     Sales|   Mayur| Sinha|01/03/1998|    09/07/22| 24|             223|              1|                   1|                 null|                   null|\n",
      "|  3|     Sales|    Maya| patil|01/02/1998|    20/07/22| 25|             212|              9|                   3|                    4|                      2|\n",
      "|  8|     Sales|    Amit|Sharma|26/08/1985|    10/09/09| 37|            4908|              4|                   1|                    2|                      1|\n",
      "|  5|     Sales|  Deepak| Kumar|01/02/1998|    04/04/21| 25|             684|              3|                   1|                    1|                      1|\n",
      "|  6|     Sales|  Pratik| Kumar|28/05/1993|    05/08/15| 29|            2753|              4|                   2|                    1|                      1|\n",
      "|  9|     Sales|Prajakta| patil|12/03/1981|    18/05/06| 41|            6119|              6|                   1|                    4|                      1|\n",
      "|  1|     Sales|  Deepti|Sharma|01/01/1998|    20/02/22| 25|             362|              8|                   3|                    4|                      1|\n",
      "| 10|     Sales|   Smita| Raina|28/05/1994|    12/08/16| 28|            2380|              5|                   2|                    1|                      2|\n",
      "|  4|     Sales|Prashant|Jadhav|27/08/1989|    01/12/14| 33|            3000|              5|                   1|                    2|                      2|\n",
      "|  2|     Sales|  Suresh|Mishra|28/05/1992|    31/05/17| 30|            2088|              6|                   2|                    4|                   null|\n",
      "+---+----------+--------+------+----------+------------+---+----------------+---------------+--------------------+---------------------+-----------------------+\n",
      "\n"
     ]
    }
   ],
   "source": [
    "df1=df1.join(cp,df1.id ==  cp[\"id \"] ,\"left\")\n",
    "df1=df1.drop(\"id \")\n",
    "df1=df1.drop(\"status\")\n",
    "df1.show()\n"
   ]
  },
  {
   "cell_type": "code",
   "execution_count": 31,
   "metadata": {},
   "outputs": [
    {
     "name": "stdout",
     "output_type": "stream",
     "text": [
      "+---+-----------------+\n",
      "|id |   average income|\n",
      "+---+-----------------+\n",
      "|  7|         454159.0|\n",
      "|  3|663854.5555555555|\n",
      "|  8|        388765.25|\n",
      "|  5|         636665.0|\n",
      "|  6|         726671.5|\n",
      "|  9|         648181.5|\n",
      "|  1|       561890.375|\n",
      "| 10|         857388.6|\n",
      "|  4|         641406.2|\n",
      "|  2|433256.6666666667|\n",
      "+---+-----------------+\n",
      "\n"
     ]
    }
   ],
   "source": [
    "ai=df2.groupBy('id ').agg(avg('income').alias(\"average income\"))\n",
    "ai.show()"
   ]
  },
  {
   "cell_type": "code",
   "execution_count": 32,
   "metadata": {},
   "outputs": [
    {
     "name": "stdout",
     "output_type": "stream",
     "text": [
      "+---+----------+--------+------+----------+------------+---+----------------+---------------+--------------------+---------------------+-----------------------+-----------------+\n",
      "| id|department|   first|  last|       dob|Joining_date|age|tenure (in days)|no. of policies|no. of active policy|no. of pending policy|no. of cancelled policy|   average income|\n",
      "+---+----------+--------+------+----------+------------+---+----------------+---------------+--------------------+---------------------+-----------------------+-----------------+\n",
      "|  7|     Sales|   Mayur| Sinha|01/03/1998|    09/07/22| 24|             223|              1|                   1|                 null|                   null|         454159.0|\n",
      "|  3|     Sales|    Maya| patil|01/02/1998|    20/07/22| 25|             212|              9|                   3|                    4|                      2|663854.5555555555|\n",
      "|  8|     Sales|    Amit|Sharma|26/08/1985|    10/09/09| 37|            4908|              4|                   1|                    2|                      1|        388765.25|\n",
      "|  5|     Sales|  Deepak| Kumar|01/02/1998|    04/04/21| 25|             684|              3|                   1|                    1|                      1|         636665.0|\n",
      "|  6|     Sales|  Pratik| Kumar|28/05/1993|    05/08/15| 29|            2753|              4|                   2|                    1|                      1|         726671.5|\n",
      "|  9|     Sales|Prajakta| patil|12/03/1981|    18/05/06| 41|            6119|              6|                   1|                    4|                      1|         648181.5|\n",
      "|  1|     Sales|  Deepti|Sharma|01/01/1998|    20/02/22| 25|             362|              8|                   3|                    4|                      1|       561890.375|\n",
      "| 10|     Sales|   Smita| Raina|28/05/1994|    12/08/16| 28|            2380|              5|                   2|                    1|                      2|         857388.6|\n",
      "|  4|     Sales|Prashant|Jadhav|27/08/1989|    01/12/14| 33|            3000|              5|                   1|                    2|                      2|         641406.2|\n",
      "|  2|     Sales|  Suresh|Mishra|28/05/1992|    31/05/17| 30|            2088|              6|                   2|                    4|                   null|433256.6666666667|\n",
      "+---+----------+--------+------+----------+------------+---+----------------+---------------+--------------------+---------------------+-----------------------+-----------------+\n",
      "\n"
     ]
    }
   ],
   "source": [
    "df1=df1.join(ai,df1.id ==  ai[\"id \"] ,\"inner\")\n",
    "df1=df1.drop(\"id \")\n",
    "df1.show()\n"
   ]
  },
  {
   "cell_type": "code",
   "execution_count": 33,
   "metadata": {},
   "outputs": [
    {
     "name": "stdout",
     "output_type": "stream",
     "text": [
      "+---+----------+--------+------+----------+------------+---+----------------+---------------+--------------------+---------------------+-----------------------+-----------------+\n",
      "| id|department|   first|  last|       dob|Joining_date|age|tenure (in days)|no. of policies|no. of active policy|no. of pending policy|no. of cancelled policy|   average income|\n",
      "+---+----------+--------+------+----------+------------+---+----------------+---------------+--------------------+---------------------+-----------------------+-----------------+\n",
      "|  1|     Sales|  Deepti|Sharma|01/01/1998|    20/02/22| 25|             362|              8|                   3|                    4|                      1|       561890.375|\n",
      "|  2|     Sales|  Suresh|Mishra|28/05/1992|    31/05/17| 30|            2088|              6|                   2|                    4|                   null|433256.6666666667|\n",
      "|  3|     Sales|    Maya| patil|01/02/1998|    20/07/22| 25|             212|              9|                   3|                    4|                      2|663854.5555555555|\n",
      "|  4|     Sales|Prashant|Jadhav|27/08/1989|    01/12/14| 33|            3000|              5|                   1|                    2|                      2|         641406.2|\n",
      "|  5|     Sales|  Deepak| Kumar|01/02/1998|    04/04/21| 25|             684|              3|                   1|                    1|                      1|         636665.0|\n",
      "|  6|     Sales|  Pratik| Kumar|28/05/1993|    05/08/15| 29|            2753|              4|                   2|                    1|                      1|         726671.5|\n",
      "|  7|     Sales|   Mayur| Sinha|01/03/1998|    09/07/22| 24|             223|              1|                   1|                 null|                   null|         454159.0|\n",
      "|  8|     Sales|    Amit|Sharma|26/08/1985|    10/09/09| 37|            4908|              4|                   1|                    2|                      1|        388765.25|\n",
      "|  9|     Sales|Prajakta| patil|12/03/1981|    18/05/06| 41|            6119|              6|                   1|                    4|                      1|         648181.5|\n",
      "| 10|     Sales|   Smita| Raina|28/05/1994|    12/08/16| 28|            2380|              5|                   2|                    1|                      2|         857388.6|\n",
      "+---+----------+--------+------+----------+------------+---+----------------+---------------+--------------------+---------------------+-----------------------+-----------------+\n",
      "\n"
     ]
    }
   ],
   "source": [
    "df1=df1.withColumn('id',df1.id.cast('int'))\n",
    "df1=df1.orderBy(\"id\")\n",
    "df1.show()\n"
   ]
  },
  {
   "cell_type": "code",
   "execution_count": null,
   "metadata": {},
   "outputs": [],
   "source": []
  }
 ],
 "metadata": {
  "kernelspec": {
   "display_name": "Python 3",
   "language": "python",
   "name": "python3"
  },
  "language_info": {
   "codemirror_mode": {
    "name": "ipython",
    "version": 3
   },
   "file_extension": ".py",
   "mimetype": "text/x-python",
   "name": "python",
   "nbconvert_exporter": "python",
   "pygments_lexer": "ipython3",
   "version": "3.10.6"
  },
  "orig_nbformat": 4,
  "vscode": {
   "interpreter": {
    "hash": "916dbcbb3f70747c44a77c7bcd40155683ae19c65e1c03b4aa3499c5328201f1"
   }
  }
 },
 "nbformat": 4,
 "nbformat_minor": 2
}
